{
 "cells": [
  {
   "cell_type": "markdown",
   "id": "923d7e59",
   "metadata": {},
   "source": [
    "# Article Generator (*￣︶￣)"
   ]
  },
  {
   "cell_type": "code",
   "execution_count": 12,
   "id": "e2eb804c",
   "metadata": {},
   "outputs": [
    {
     "name": "stdout",
     "output_type": "stream",
     "text": [
      "=== 文章生成参数设置 ===\n",
      "🔢 单词最少出现次数: 2\n",
      "📝 文章篇数: 3\n",
      "🎯 文章主题: 任意\n",
      "📖 文章体裁: 说明文\n",
      "⭐ 文章难度: 简单\n",
      "\n",
      "参数设置完成！\n"
     ]
    }
   ],
   "source": [
    "# 🔧 文章生成参数设置\n",
    "print(\"=== 文章生成参数设置 ===\")\n",
    "\n",
    "# ========== 在这里修改参数 ==========\n",
    "word_list_index = 0        # 单词列表索引 (0表示第一个)\n",
    "min_occurrences = 2        # 每个单词最少出现次数\n",
    "article_count = 3          # 生成文章篇数\n",
    "article_topic = \"任意\"   # 文章主题\n",
    "article_genre = \"说明文\"      # 文章体裁 (议论文/说明文/记叙文/新闻报道)\n",
    "article_difficulty = \"简单\"   # 文章难度 (简单/中等/困难)\n",
    "# ===================================\n",
    "\n",
    "print(f\"🔢 单词最少出现次数: {min_occurrences}\")\n",
    "print(f\"📝 文章篇数: {article_count}\")\n",
    "print(f\"🎯 文章主题: {article_topic}\")\n",
    "print(f\"📖 文章体裁: {article_genre}\")\n",
    "print(f\"⭐ 文章难度: {article_difficulty}\")\n",
    "print(\"\\n参数设置完成！\")"
   ]
  },
  {
   "cell_type": "code",
   "execution_count": 13,
   "id": "39cda737",
   "metadata": {},
   "outputs": [
    {
     "name": "stdout",
     "output_type": "stream",
     "text": [
      "=== 文章生成系统初始化 ===\n",
      "✅ 配置加载成功！使用模型: gpt-4o\n",
      "✅ 系统初始化完成！\n"
     ]
    }
   ],
   "source": [
    "# 导入模块和初始化\n",
    "from modules.config_manager import load_config, init_openai_client, setup_environment\n",
    "from modules.word_manager import get_available_word_lists, display_word_lists, select_word_list\n",
    "from modules.article_generator import generate_articles_with_ai, parse_and_save_articles, display_generated_articles\n",
    "from modules.file_manager import ensure_directory\n",
    "\n",
    "print(\"=== 文章生成系统初始化 ===\")\n",
    "\n",
    "# 设置环境\n",
    "setup_environment()\n",
    "\n",
    "# 加载配置\n",
    "config = load_config()\n",
    "client, model = init_openai_client(config)\n",
    "\n",
    "print(f\"✅ 配置加载成功！使用模型: {model}\")\n",
    "print(\"✅ 系统初始化完成！\")"
   ]
  },
  {
   "cell_type": "code",
   "execution_count": 14,
   "id": "817b7d57",
   "metadata": {},
   "outputs": [
    {
     "name": "stdout",
     "output_type": "stream",
     "text": [
      "=== 单词列表选择 ===\n",
      "可用的单词列表：\n",
      "1. list1.txt\n",
      "已选择单词列表: list1.txt\n",
      "包含 24 个单词\n",
      "单词列表: ['Stake', 'Estate', 'Statute', 'Asocial', 'Blunder', 'Accordingly', 'Owe', 'Entrepreneur', 'Transaction', 'Commodity', 'Bargain', 'Segment', 'Matter', 'Governance', 'Payout', 'Mortgage', 'Lawsuit', 'Legitimate', 'Legislative', 'Legislation', 'Legislature', 'Proceedings', 'Enact', 'Bar']\n",
      "\n",
      "✅ 已选择单词列表: list1.txt\n",
      "📊 总单词数: 24\n",
      "🎯 将使用全部 24 个单词\n",
      "📋 单词列表预览: ['Stake', 'Estate', 'Statute', 'Asocial', 'Blunder', 'Accordingly', 'Owe', 'Entrepreneur', 'Transaction', 'Commodity']...\n"
     ]
    }
   ],
   "source": [
    "# 📝 单词列表选择\n",
    "print(\"=== 单词列表选择 ===\")\n",
    "\n",
    "# 获取并显示可用的单词列表\n",
    "available_word_lists = get_available_word_lists()\n",
    "display_word_lists(available_word_lists)\n",
    "\n",
    "if not available_word_lists:\n",
    "    print(\"❌ 没有找到单词列表文件！\")\n",
    "    print(\"请在 word_lists/ 文件夹中添加 .txt 格式的单词列表文件\")\n",
    "else:\n",
    "    # 选择单词列表\n",
    "    selected_word_list, words = select_word_list(available_word_lists, word_list_index)\n",
    "    \n",
    "    if selected_word_list and words:\n",
    "        # 使用完整单词列表（无数量限制）\n",
    "        selected_words = words\n",
    "        word_list_name = selected_word_list.stem\n",
    "        \n",
    "        print(f\"\\n✅ 已选择单词列表: {selected_word_list.name}\")\n",
    "        print(f\"📊 总单词数: {len(words)}\")\n",
    "        print(f\"🎯 将使用全部 {len(selected_words)} 个单词\")\n",
    "        print(f\"📋 单词列表预览: {selected_words[:10]}{'...' if len(selected_words) > 10 else ''}\")\n",
    "    else:\n",
    "        print(\"❌ 单词列表选择失败！\")"
   ]
  },
  {
   "cell_type": "code",
   "execution_count": 15,
   "id": "17b8b488",
   "metadata": {},
   "outputs": [
    {
     "name": "stdout",
     "output_type": "stream",
     "text": [
      "=== 开始生成文章 ===\n",
      "已确保目录存在: articles\n",
      "🎯 使用单词: ['Stake', 'Estate', 'Statute', 'Asocial', 'Blunder', 'Accordingly', 'Owe', 'Entrepreneur', 'Transaction', 'Commodity', 'Bargain', 'Segment', 'Matter', 'Governance', 'Payout', 'Mortgage', 'Lawsuit', 'Legitimate', 'Legislative', 'Legislation', 'Legislature', 'Proceedings', 'Enact', 'Bar']\n",
      "⏳ 正在调用AI生成文章，请稍候...\n",
      "✅ AI生成完成！正在解析和保存文章...\n",
      "\n",
      "=== AI输出内容预览 ===\n",
      "=== ARTICLE 1 ===\n",
      "Title: Understanding Real Estate and Financial Transactions\n",
      "Abstract: This article explores the basics of real **estate**, financial **transactions**, and how they are governed by various **statutes**. It explains key concepts such as **mortgages**, **payouts**, and **bargains** in simple terms.\n",
      "---\n",
      "Real **estate** is a popular investment **commodity** that many people consider when looking to increase their financial **stake**. When purchasing property, one often encounters a ...\n",
      "==================================================\n",
      "使用格式1解析到 3 篇文章\n",
      "已保存文章: list1-Understanding-Real-Estate-and-Financial-Transactio-20250820_164555.md\n",
      "已保存文章: list1-The-Role-of-Governance-in-Business-20250820_164555.md\n",
      "已保存文章: list1-Social-Dynamics-and-Legal-Frameworks-20250820_164555.md\n",
      "\n",
      "🎉 文章生成成功！\n",
      "📊 成功生成并保存了 3 篇文章\n",
      "\n",
      "=== 文章预览 ===\n",
      "\n",
      "📖 文章 1: Understanding Real Estate and Financial Transactions\n",
      "摘要: This article explores the basics of real **estate**, financial **transactions**, and how they are governed by various **statutes**. It explains key concepts such as **mortgages**, **payouts**, and **bargains** in simple terms.\n",
      "文件: list1-Understanding-Real-Estate-and-Financial-Transactio-20250820_164555.md\n",
      "--------------------------------------------------\n",
      "\n",
      "📖 文章 2: The Role of Governance in Business\n",
      "摘要: This article discusses the importance of **governance** in business, focusing on how **legislative** processes and **legislation** affect entrepreneurs and their business **transactions**.\n",
      "文件: list1-The-Role-of-Governance-in-Business-20250820_164555.md\n",
      "--------------------------------------------------\n",
      "\n",
      "📖 文章 3: Social Dynamics and Legal Frameworks\n",
      "摘要: This article examines the interaction between social behavior and legal systems, emphasizing the impact of being **asocial** on legal **proceedings** and the importance of **legitimate** interactions in society.\n",
      "文件: list1-Social-Dynamics-and-Legal-Frameworks-20250820_164555.md\n",
      "--------------------------------------------------\n",
      "\n",
      "📂 文章保存在 articles/ 文件夹中\n",
      "✨ 您现在可以查看生成的文章，或继续使用翻译评估系统\n"
     ]
    }
   ],
   "source": [
    "# 🚀 执行文章生成\n",
    "print(\"=== 开始生成文章 ===\")\n",
    "\n",
    "# 确保文章目录存在（不删除现有文章）\n",
    "ensure_directory('articles')\n",
    "\n",
    "if 'selected_words' in locals() and selected_words:\n",
    "    print(f\"🎯 使用单词: {selected_words}\")\n",
    "    print(\"⏳ 正在调用AI生成文章，请稍候...\")\n",
    "    \n",
    "    # 调用AI生成文章\n",
    "    ai_output = generate_articles_with_ai(\n",
    "        client=client,\n",
    "        model=model,\n",
    "        words=selected_words,\n",
    "        count=article_count,\n",
    "        topic=article_topic,\n",
    "        genre=article_genre,\n",
    "        difficulty=article_difficulty,\n",
    "        min_occurrences=min_occurrences\n",
    "    )\n",
    "    \n",
    "    if ai_output:\n",
    "        print(\"✅ AI生成完成！正在解析和保存文章...\")\n",
    "        \n",
    "        # 解析并保存文章\n",
    "        saved_articles = parse_and_save_articles(ai_output, word_list_name)\n",
    "        \n",
    "        if saved_articles:\n",
    "            print(f\"\\n🎉 文章生成成功！\")\n",
    "            print(f\"📊 成功生成并保存了 {len(saved_articles)} 篇文章\")\n",
    "            \n",
    "            # 显示文章预览\n",
    "            display_generated_articles(saved_articles)\n",
    "            \n",
    "            print(f\"\\n📂 文章保存在 articles/ 文件夹中\")\n",
    "            print(\"✨ 您现在可以查看生成的文章，或继续使用翻译评估系统\")\n",
    "        else:\n",
    "            print(\"❌ 文章解析失败，请检查AI输出格式\")\n",
    "    else:\n",
    "        print(\"❌ 文章生成失败，请检查网络连接和API配置\")\n",
    "else:\n",
    "    print(\"❌ 请先完成单词列表选择步骤\")"
   ]
  }
 ],
 "metadata": {
  "kernelspec": {
   "display_name": "Python 3",
   "language": "python",
   "name": "python3"
  },
  "language_info": {
   "codemirror_mode": {
    "name": "ipython",
    "version": 3
   },
   "file_extension": ".py",
   "mimetype": "text/x-python",
   "name": "python",
   "nbconvert_exporter": "python",
   "pygments_lexer": "ipython3",
   "version": "3.12.6"
  }
 },
 "nbformat": 4,
 "nbformat_minor": 5
}
